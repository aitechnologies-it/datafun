{
 "cells": [
  {
   "cell_type": "code",
   "execution_count": 1,
   "metadata": {},
   "outputs": [],
   "source": [
    "import datafun as dfn"
   ]
  },
  {
   "cell_type": "code",
   "execution_count": 2,
   "metadata": {},
   "outputs": [
    {
     "name": "stdout",
     "output_type": "stream",
     "text": [
      "/Users/diego/.cache/datafun/hash/c32d8a5c934693c71c917e7588b7fb6f/poem.txt\n"
     ]
    }
   ],
   "source": [
    "# SINGLE FILE DOWNLOAD\n",
    "ds: dfn.Dataset = dfn.load(\"gcs\",\n",
    "    path=\"gs://ait-demos/datafun/poem.txt\",\n",
    "    # service_account=\"/path/to/sa.json\",\n",
    ")\n",
    "\n",
    "for path in ds:\n",
    "    print(path)"
   ]
  },
  {
   "cell_type": "code",
   "execution_count": 3,
   "metadata": {},
   "outputs": [
    {
     "name": "stdout",
     "output_type": "stream",
     "text": [
      "Lorem ipsum dolor sit amet\n",
      "consectetur adipiscing elit\n",
      "Nulla porttitor dolor mattis\n",
      "sagittis est sed, consequat augue\n",
      "Suspendisse ultricies eu sapien non ornare."
     ]
    }
   ],
   "source": [
    "# Open file from cache\n",
    "path = ds.take(1)[0]\n",
    "with open(path, \"r\") as f:\n",
    "    for line in f:\n",
    "        print(line, end=\"\")"
   ]
  },
  {
   "cell_type": "code",
   "execution_count": 4,
   "metadata": {},
   "outputs": [
    {
     "name": "stdout",
     "output_type": "stream",
     "text": [
      "/Users/diego/.cache/datafun/hash/ae49a433825895fdd0f75856dfc26109/iris.csv\n",
      "/Users/diego/.cache/datafun/hash/c32d8a5c934693c71c917e7588b7fb6f/poem.txt\n",
      "/Users/diego/.cache/datafun/hash/8ed0512cb987e10a989017ef73918d31/qa_dataset.jsonl\n",
      "/Users/diego/.cache/datafun/hash/b30c21ab910c4cce1250af12bbdf386b/tokenizer.json\n"
     ]
    }
   ],
   "source": [
    "ds: dfn.Dataset = dfn.load(\"gcs\",\n",
    "    path=\"gs://ait-demos/datafun/*\",\n",
    "    # service_account=\"/path/to/sa.json\",\n",
    ")\n",
    "\n",
    "for filename in ds:\n",
    "    print(filename)"
   ]
  },
  {
   "cell_type": "code",
   "execution_count": null,
   "metadata": {},
   "outputs": [],
   "source": []
  }
 ],
 "metadata": {
  "kernelspec": {
   "display_name": "Python 3.9.9 64-bit ('datafun')",
   "language": "python",
   "name": "python3"
  },
  "language_info": {
   "codemirror_mode": {
    "name": "ipython",
    "version": 3
   },
   "file_extension": ".py",
   "mimetype": "text/x-python",
   "name": "python",
   "nbconvert_exporter": "python",
   "pygments_lexer": "ipython3",
   "version": "3.9.9"
  },
  "orig_nbformat": 4,
  "vscode": {
   "interpreter": {
    "hash": "1feeeb35e04c31a2e10709c12a2edee44e932fb58f3cd29b93e401eef25ef5a1"
   }
  }
 },
 "nbformat": 4,
 "nbformat_minor": 2
}

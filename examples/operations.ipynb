{
 "cells": [
  {
   "cell_type": "markdown",
   "metadata": {},
   "source": [
    "# operations"
   ]
  },
  {
   "cell_type": "code",
   "execution_count": 1,
   "metadata": {},
   "outputs": [],
   "source": [
    "import datafun as dfn\n",
    "import pydlib as dl"
   ]
  },
  {
   "cell_type": "code",
   "execution_count": 2,
   "metadata": {},
   "outputs": [],
   "source": [
    "an_iterable = [(1,\"The\"), (2,\"cat\"), (3,\"is\"), (4,\"on\"), (5,\"the\"), (6,\"table\")]\n",
    "ds = dfn.load(an_iterable)"
   ]
  },
  {
   "cell_type": "markdown",
   "metadata": {},
   "source": [
    "## Basics (loop, show, collect)\n"
   ]
  },
  {
   "cell_type": "code",
   "execution_count": 3,
   "metadata": {},
   "outputs": [
    {
     "name": "stdout",
     "output_type": "stream",
     "text": [
      "(1, 'The')\n",
      "(2, 'cat')\n",
      "(3, 'is')\n",
      "(4, 'on')\n",
      "(5, 'the')\n",
      "(6, 'table')\n"
     ]
    }
   ],
   "source": [
    "# You can loop\n",
    "for x in ds:\n",
    "    print(x)"
   ]
  },
  {
   "cell_type": "code",
   "execution_count": 4,
   "metadata": {},
   "outputs": [
    {
     "data": {
      "text/plain": [
       "\"(1, 'The'), (2, 'cat'), (3, 'is')\""
      ]
     },
     "execution_count": 4,
     "metadata": {},
     "output_type": "execute_result"
    }
   ],
   "source": [
    "# You can show elements\n",
    "ds.show(3) # str"
   ]
  },
  {
   "cell_type": "code",
   "execution_count": 5,
   "metadata": {},
   "outputs": [
    {
     "data": {
      "text/plain": [
       "[(1, 'The'), (2, 'cat'), (3, 'is')]"
      ]
     },
     "execution_count": 5,
     "metadata": {},
     "output_type": "execute_result"
    }
   ],
   "source": [
    "# You can take elements\n",
    "ds.take(3) # list"
   ]
  },
  {
   "cell_type": "code",
   "execution_count": 6,
   "metadata": {},
   "outputs": [
    {
     "data": {
      "text/plain": [
       "[(1, 'The'), (2, 'cat'), (3, 'is'), (4, 'on')]"
      ]
     },
     "execution_count": 6,
     "metadata": {},
     "output_type": "execute_result"
    }
   ],
   "source": [
    "ds.take_while(lambda x: x[0] <= 4)"
   ]
  },
  {
   "cell_type": "code",
   "execution_count": 7,
   "metadata": {},
   "outputs": [
    {
     "name": "stderr",
     "output_type": "stream",
     "text": [
      "Collecting examples: 6it [00:00, 1308.88it/s, total_read=6]\n"
     ]
    },
    {
     "data": {
      "text/plain": [
       "[(1, 'The'), (2, 'cat'), (3, 'is'), (4, 'on'), (5, 'the'), (6, 'table')]"
      ]
     },
     "execution_count": 7,
     "metadata": {},
     "output_type": "execute_result"
    }
   ],
   "source": [
    "# You can collect them all into a list\n",
    "ds.collect()"
   ]
  },
  {
   "cell_type": "markdown",
   "metadata": {},
   "source": [
    "## filter"
   ]
  },
  {
   "cell_type": "code",
   "execution_count": 8,
   "metadata": {},
   "outputs": [
    {
     "data": {
      "text/plain": [
       "[(1, 'The'), (5, 'the')]"
      ]
     },
     "execution_count": 8,
     "metadata": {},
     "output_type": "execute_result"
    }
   ],
   "source": [
    "ds.filter(lambda x: x[1].lower() == \"the\").take(3)"
   ]
  },
  {
   "cell_type": "markdown",
   "metadata": {},
   "source": [
    "## map\n"
   ]
  },
  {
   "cell_type": "code",
   "execution_count": 9,
   "metadata": {},
   "outputs": [
    {
     "data": {
      "text/plain": [
       "[1, 2, 3]"
      ]
     },
     "execution_count": 9,
     "metadata": {},
     "output_type": "execute_result"
    }
   ],
   "source": [
    "ds.map(lambda x: x[0]).take(3)"
   ]
  },
  {
   "cell_type": "markdown",
   "metadata": {},
   "source": [
    "## flat_map"
   ]
  },
  {
   "cell_type": "code",
   "execution_count": 10,
   "metadata": {},
   "outputs": [
    {
     "data": {
      "text/plain": [
       "'1, The, 2, cat, 3'"
      ]
     },
     "execution_count": 10,
     "metadata": {},
     "output_type": "execute_result"
    }
   ],
   "source": [
    "# Example 1: flatten original tuples\n",
    "ds.flat_map().show(5)"
   ]
  },
  {
   "cell_type": "code",
   "execution_count": 11,
   "metadata": {},
   "outputs": [
    {
     "name": "stderr",
     "output_type": "stream",
     "text": [
      "Collecting examples: 6it [00:00, 4822.89it/s, total_read=2]\n"
     ]
    },
    {
     "data": {
      "text/plain": [
       "[1, 2, 3, 40, 50, 60]"
      ]
     },
     "execution_count": 11,
     "metadata": {},
     "output_type": "execute_result"
    }
   ],
   "source": [
    "# Example 2: take a list from a dictionary with nested fields\n",
    "ds2 = dfn.load([{'path': {'to': {'list': [1,2,3]}}}, {'path': {'to': {'list': [40,50,60]}}}])\n",
    "# The list inside the dict is returned one element at a time\n",
    "ds2.flat_map(lambda x: dl.get(x, \"path.to.list\")).collect()\n"
   ]
  },
  {
   "cell_type": "markdown",
   "metadata": {},
   "source": [
    "## unique\n"
   ]
  },
  {
   "cell_type": "code",
   "execution_count": 13,
   "metadata": {},
   "outputs": [
    {
     "name": "stderr",
     "output_type": "stream",
     "text": [
      "Collecting examples: 5it [00:00, 4806.67it/s, total_read=6]\n"
     ]
    },
    {
     "data": {
      "text/plain": [
       "[(1, 'The'), (2, 'cat'), (3, 'is'), (4, 'on'), (6, 'table')]"
      ]
     },
     "execution_count": 13,
     "metadata": {},
     "output_type": "execute_result"
    }
   ],
   "source": [
    "# Filter duplicated tuples by string x[1]\n",
    "ds.unique(lambda x: x[1].lower()).collect()"
   ]
  },
  {
   "cell_type": "markdown",
   "metadata": {},
   "source": [
    "## sampling\n"
   ]
  },
  {
   "cell_type": "code",
   "execution_count": 15,
   "metadata": {},
   "outputs": [
    {
     "name": "stderr",
     "output_type": "stream",
     "text": [
      "Collecting examples: 5023it [00:00, 56639.40it/s, total_read=10.0K]\n"
     ]
    },
    {
     "data": {
      "text/plain": [
       "5023"
      ]
     },
     "execution_count": 15,
     "metadata": {},
     "output_type": "execute_result"
    }
   ],
   "source": [
    "# Sample dataset, then compute COUNT by turning the Dataset into a list\n",
    "len(\n",
    "    dfn.load(range(10000))\n",
    "    .sampling(p=0.5, seed=1)\n",
    "    .collect()\n",
    ")"
   ]
  },
  {
   "cell_type": "markdown",
   "metadata": {},
   "source": [
    "## aggregate"
   ]
  },
  {
   "cell_type": "code",
   "execution_count": 16,
   "metadata": {},
   "outputs": [
    {
     "data": {
      "text/plain": [
       "[5023]"
      ]
     },
     "execution_count": 16,
     "metadata": {},
     "output_type": "execute_result"
    }
   ],
   "source": [
    "# Compute COUNT of sampled ds, as above, but with 'aggregate'\n",
    "ds3 = (\n",
    "    dfn\n",
    "    .load(range(10000))\n",
    "    .sampling(p=0.5, seed=1)\n",
    "    .aggregate(\n",
    "        init=lambda: 0,\n",
    "        agg=lambda x, agg: agg+1, # x is the curr element (we ignore it), agg is the aggregate, same type from init\n",
    "    )\n",
    ")\n",
    "ds3.take()"
   ]
  },
  {
   "cell_type": "code",
   "execution_count": 17,
   "metadata": {},
   "outputs": [
    {
     "name": "stdout",
     "output_type": "stream",
     "text": [
      "5051\n",
      "5051.0\n"
     ]
    }
   ],
   "source": [
    "# Compute SUM of first n natural numbers, then add 1 with a reduce\n",
    "n = 100\n",
    "print(\n",
    "    dfn.load(range(1, n+1))\\\n",
    "        .aggregate(\n",
    "            init=lambda: 0,\n",
    "            agg=lambda curr, agg: curr+agg, # x[0] is the curr element, x[1] is the aggregate, same type from init\n",
    "            reduce=lambda x: x+1\n",
    "        )\\\n",
    "        .show()\n",
    ")\n",
    "\n",
    "sum_of_n = n*(n+1)/2\n",
    "print(sum_of_n + 1) # To check correctness"
   ]
  },
  {
   "cell_type": "markdown",
   "metadata": {},
   "source": [
    "# limit"
   ]
  },
  {
   "cell_type": "code",
   "execution_count": 19,
   "metadata": {},
   "outputs": [
    {
     "name": "stdout",
     "output_type": "stream",
     "text": [
      "0\n",
      "1\n",
      "4\n",
      "9\n",
      "16\n"
     ]
    }
   ],
   "source": [
    "# limit returns a Dataset, so it lets us loop over a very large ds like it is a small one\n",
    "ds = (\n",
    "    dfn\n",
    "    .load(range(1000000000000000))\n",
    "    .limit(5)\n",
    "    .map(lambda x: x**2)\n",
    ")\n",
    "for x in ds:\n",
    "    print(x)"
   ]
  },
  {
   "cell_type": "code",
   "execution_count": null,
   "metadata": {},
   "outputs": [],
   "source": []
  }
 ],
 "metadata": {
  "kernelspec": {
   "display_name": "Python 3.9.9 64-bit ('datafun')",
   "language": "python",
   "name": "python3"
  },
  "language_info": {
   "codemirror_mode": {
    "name": "ipython",
    "version": 3
   },
   "file_extension": ".py",
   "mimetype": "text/x-python",
   "name": "python",
   "nbconvert_exporter": "python",
   "pygments_lexer": "ipython3",
   "version": "3.9.9"
  },
  "orig_nbformat": 4,
  "vscode": {
   "interpreter": {
    "hash": "1feeeb35e04c31a2e10709c12a2edee44e932fb58f3cd29b93e401eef25ef5a1"
   }
  }
 },
 "nbformat": 4,
 "nbformat_minor": 2
}

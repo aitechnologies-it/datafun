{
 "cells": [
  {
   "cell_type": "markdown",
   "metadata": {},
   "source": [
    "# operations"
   ]
  },
  {
   "cell_type": "code",
   "execution_count": 2,
   "metadata": {},
   "outputs": [],
   "source": [
    "import datafun as dfn\n",
    "import pydlib as dl"
   ]
  },
  {
   "cell_type": "code",
   "execution_count": 2,
   "metadata": {},
   "outputs": [],
   "source": [
    "an_iterable = [(1,\"The\"), (2,\"cat\"), (3,\"is\"), (4,\"on\"), (5,\"the\"), (6,\"table\")]\n",
    "ds = dfn.load(an_iterable)"
   ]
  },
  {
   "cell_type": "markdown",
   "metadata": {},
   "source": [
    "## Basics (loop, show, collect)\n"
   ]
  },
  {
   "cell_type": "code",
   "execution_count": 16,
   "metadata": {},
   "outputs": [
    {
     "name": "stdout",
     "output_type": "stream",
     "text": [
      "(1, 'The')\n",
      "(2, 'cat')\n",
      "(3, 'is')\n",
      "(4, 'on')\n",
      "(5, 'the')\n",
      "(6, 'table')\n"
     ]
    }
   ],
   "source": [
    "# You can loop\n",
    "for x in ds:\n",
    "    print(x)"
   ]
  },
  {
   "cell_type": "code",
   "execution_count": 17,
   "metadata": {},
   "outputs": [
    {
     "data": {
      "text/plain": [
       "\"(1, 'The'), (2, 'cat'), (3, 'is')\""
      ]
     },
     "execution_count": 17,
     "metadata": {},
     "output_type": "execute_result"
    }
   ],
   "source": [
    "# You can show elements\n",
    "ds.show(3) # str"
   ]
  },
  {
   "cell_type": "code",
   "execution_count": 18,
   "metadata": {},
   "outputs": [
    {
     "data": {
      "text/plain": [
       "[(1, 'The'), (2, 'cat'), (3, 'is')]"
      ]
     },
     "execution_count": 18,
     "metadata": {},
     "output_type": "execute_result"
    }
   ],
   "source": [
    "# You can take elements\n",
    "ds.take(3) # list"
   ]
  },
  {
   "cell_type": "code",
   "execution_count": 19,
   "metadata": {},
   "outputs": [
    {
     "data": {
      "text/plain": [
       "[(1, 'The'), (2, 'cat'), (3, 'is'), (4, 'on')]"
      ]
     },
     "execution_count": 19,
     "metadata": {},
     "output_type": "execute_result"
    }
   ],
   "source": [
    "ds.take_while(lambda x: x[0] <= 4)"
   ]
  },
  {
   "cell_type": "code",
   "execution_count": 20,
   "metadata": {},
   "outputs": [
    {
     "name": "stderr",
     "output_type": "stream",
     "text": [
      "Collecting examples: 6it [00:00, 3750.50it/s, total_read=6]\n"
     ]
    },
    {
     "data": {
      "text/plain": [
       "[(1, 'The'), (2, 'cat'), (3, 'is'), (4, 'on'), (5, 'the'), (6, 'table')]"
      ]
     },
     "execution_count": 20,
     "metadata": {},
     "output_type": "execute_result"
    }
   ],
   "source": [
    "# You can collect them all into a list\n",
    "ds.collect()"
   ]
  },
  {
   "cell_type": "markdown",
   "metadata": {},
   "source": [
    "## filter"
   ]
  },
  {
   "cell_type": "code",
   "execution_count": 21,
   "metadata": {},
   "outputs": [
    {
     "data": {
      "text/plain": [
       "[(1, 'The'), (5, 'the')]"
      ]
     },
     "execution_count": 21,
     "metadata": {},
     "output_type": "execute_result"
    }
   ],
   "source": [
    "ds.filter(lambda x: x[1].lower() == \"the\").take(3)"
   ]
  },
  {
   "cell_type": "markdown",
   "metadata": {},
   "source": [
    "## map\n"
   ]
  },
  {
   "cell_type": "code",
   "execution_count": 22,
   "metadata": {},
   "outputs": [
    {
     "data": {
      "text/plain": [
       "[1, 2, 3]"
      ]
     },
     "execution_count": 22,
     "metadata": {},
     "output_type": "execute_result"
    }
   ],
   "source": [
    "ds.map(lambda x: x[0]).take(3)"
   ]
  },
  {
   "cell_type": "markdown",
   "metadata": {},
   "source": [
    "## flat_map"
   ]
  },
  {
   "cell_type": "code",
   "execution_count": 23,
   "metadata": {},
   "outputs": [
    {
     "data": {
      "text/plain": [
       "'1, The, 2, cat, 3'"
      ]
     },
     "execution_count": 23,
     "metadata": {},
     "output_type": "execute_result"
    }
   ],
   "source": [
    "# Example 1: flatten original tuples\n",
    "ds.flat_map().show(5)"
   ]
  },
  {
   "cell_type": "code",
   "execution_count": 24,
   "metadata": {},
   "outputs": [
    {
     "name": "stderr",
     "output_type": "stream",
     "text": [
      "Collecting examples: 6it [00:00, 4378.95it/s, total_read=2]\n"
     ]
    },
    {
     "data": {
      "text/plain": [
       "[1, 2, 3, 40, 50, 60]"
      ]
     },
     "execution_count": 24,
     "metadata": {},
     "output_type": "execute_result"
    }
   ],
   "source": [
    "# Example 2: take a list from a dictionary with nested fields\n",
    "ds2 = dfn.load([{'path': {'to': {'list': [1,2,3]}}}, {'path': {'to': {'list': [40,50,60]}}}])\n",
    "# The list inside the dict is returned one element at a time\n",
    "ds2.flat_map(lambda x: dl.get(x, \"path.to.list\")).collect()\n"
   ]
  },
  {
   "cell_type": "markdown",
   "metadata": {},
   "source": [
    "## unique\n"
   ]
  },
  {
   "cell_type": "code",
   "execution_count": 25,
   "metadata": {},
   "outputs": [
    {
     "name": "stderr",
     "output_type": "stream",
     "text": [
      "Collecting examples: 5it [00:00, 4420.64it/s, total_read=6]\n"
     ]
    },
    {
     "data": {
      "text/plain": [
       "[(1, 'The'), (2, 'cat'), (3, 'is'), (4, 'on'), (6, 'table')]"
      ]
     },
     "execution_count": 25,
     "metadata": {},
     "output_type": "execute_result"
    }
   ],
   "source": [
    "# Filter duplicated tuples by string x[1]\n",
    "ds.unique(lambda x: x[1].lower()).collect()"
   ]
  },
  {
   "cell_type": "markdown",
   "metadata": {},
   "source": [
    "## sampling\n"
   ]
  },
  {
   "cell_type": "code",
   "execution_count": 26,
   "metadata": {},
   "outputs": [
    {
     "name": "stderr",
     "output_type": "stream",
     "text": [
      "Collecting examples: 5023it [00:00, 74658.09it/s, total_read=10.0K]\n"
     ]
    },
    {
     "data": {
      "text/plain": [
       "5023"
      ]
     },
     "execution_count": 26,
     "metadata": {},
     "output_type": "execute_result"
    }
   ],
   "source": [
    "# Sample dataset, then compute COUNT by turning the Dataset into a list\n",
    "len(\n",
    "    dfn.load(range(10000))\n",
    "    .sampling(p=0.5, seed=1)\n",
    "    .collect()\n",
    ")"
   ]
  },
  {
   "cell_type": "markdown",
   "metadata": {},
   "source": [
    "## aggregate"
   ]
  },
  {
   "cell_type": "code",
   "execution_count": 27,
   "metadata": {},
   "outputs": [
    {
     "data": {
      "text/plain": [
       "[5023]"
      ]
     },
     "execution_count": 27,
     "metadata": {},
     "output_type": "execute_result"
    }
   ],
   "source": [
    "# Compute COUNT of sampled ds, as above, but with 'aggregate'\n",
    "ds3 = (\n",
    "    dfn\n",
    "    .load(range(10000))\n",
    "    .sampling(p=0.5, seed=1)\n",
    "    .aggregate(\n",
    "        init=lambda: 0,\n",
    "        agg=lambda x, agg: agg+1, # x is the curr element (we ignore it), agg is the aggregate, same type from init\n",
    "    )\n",
    ")\n",
    "ds3.take()"
   ]
  },
  {
   "cell_type": "code",
   "execution_count": 28,
   "metadata": {},
   "outputs": [
    {
     "name": "stdout",
     "output_type": "stream",
     "text": [
      "5051\n",
      "5051.0\n"
     ]
    }
   ],
   "source": [
    "# Compute SUM of first n natural numbers, then add 1 with a reduce\n",
    "n = 100\n",
    "print(\n",
    "    dfn.load(range(1, n+1))\\\n",
    "        .aggregate(\n",
    "            init=lambda: 0,\n",
    "            agg=lambda curr, agg: curr+agg, # x[0] is the curr element, x[1] is the aggregate, same type from init\n",
    "            reduce=lambda x: x+1\n",
    "        )\\\n",
    "        .show()\n",
    ")\n",
    "\n",
    "sum_of_n = n*(n+1)/2\n",
    "print(sum_of_n + 1) # To check correctness"
   ]
  },
  {
   "cell_type": "markdown",
   "metadata": {},
   "source": [
    "# limit"
   ]
  },
  {
   "cell_type": "code",
   "execution_count": 29,
   "metadata": {},
   "outputs": [
    {
     "name": "stdout",
     "output_type": "stream",
     "text": [
      "0\n",
      "1\n",
      "4\n",
      "9\n",
      "16\n"
     ]
    }
   ],
   "source": [
    "# limit returns a Dataset, so it lets us loop over a very large ds like it is a small one\n",
    "ds = (\n",
    "    dfn\n",
    "    .load(range(1000000000000000))\n",
    "    .limit(5)\n",
    "    .map(lambda x: x**2)\n",
    ")\n",
    "for x in ds:\n",
    "    print(x)"
   ]
  },
  {
   "cell_type": "markdown",
   "metadata": {},
   "source": [
    "# basic operations: +, -, /, *"
   ]
  },
  {
   "cell_type": "code",
   "execution_count": 10,
   "metadata": {},
   "outputs": [],
   "source": [
    "ds_int = dfn.load(range(10))\n",
    "ds_float = dfn.load([0.3, 0.1, 0.4, 0.3])\n",
    "ds_str = dfn.load([\"hello\", \"world\"])"
   ]
  },
  {
   "cell_type": "code",
   "execution_count": 11,
   "metadata": {},
   "outputs": [
    {
     "name": "stdout",
     "output_type": "stream",
     "text": [
      "ds_int      : [0, 1, 2, 3, 4, 5, 6, 7, 8, 9]\n",
      "ds_int   + 1: [1, 2, 3, 4, 5, 6, 7, 8, 9, 10]\n",
      "ds_int   * 2: [0, 2, 4, 6, 8, 10, 12, 14, 16, 18]\n",
      "ds_float    : [0.3, 0.1, 0.4, 0.3]\n",
      "ds_float / 2: [0.15, 0.05, 0.2, 0.15]\n"
     ]
    }
   ],
   "source": [
    "print(\n",
    "    \"ds_int      :\", ds_int.take(10)\n",
    ")\n",
    "print(\n",
    "    \"ds_int   + 1:\", (ds_int + 1).take(10)\n",
    ")\n",
    "print(\n",
    "    \"ds_int   * 2:\", (ds_int * 2).take(10)\n",
    ")\n",
    "print(\n",
    "    \"ds_float    :\", ds_float.take(10)\n",
    ")\n",
    "print(\n",
    "    \"ds_float / 2:\", (ds_float / 2.0).take(10)\n",
    ")"
   ]
  },
  {
   "cell_type": "code",
   "execution_count": 12,
   "metadata": {},
   "outputs": [
    {
     "data": {
      "text/plain": [
       "['hello the cat', 'world the cat']"
      ]
     },
     "execution_count": 12,
     "metadata": {},
     "output_type": "execute_result"
    }
   ],
   "source": [
    "(ds_str + \" the cat\").take(10)"
   ]
  },
  {
   "cell_type": "code",
   "execution_count": 16,
   "metadata": {},
   "outputs": [
    {
     "data": {
      "text/plain": [
       "[0, 2, 4, 6, 8, 10, 12, 14, 16, 18]"
      ]
     },
     "execution_count": 16,
     "metadata": {},
     "output_type": "execute_result"
    }
   ],
   "source": [
    "(ds_int + ds_int).take(10)"
   ]
  },
  {
   "cell_type": "markdown",
   "metadata": {},
   "source": [
    "# zip"
   ]
  },
  {
   "cell_type": "code",
   "execution_count": 7,
   "metadata": {},
   "outputs": [
    {
     "data": {
      "text/plain": [
       "[('he', 'llo'), ('wo', 'rld')]"
      ]
     },
     "execution_count": 7,
     "metadata": {},
     "output_type": "execute_result"
    }
   ],
   "source": [
    "(\n",
    "    dfn.load([\"he\", \"wo\"])\n",
    "    .zip(dfn.load([\"llo\", \"rld\"]))\n",
    ").take(2)"
   ]
  },
  {
   "cell_type": "code",
   "execution_count": 2,
   "metadata": {},
   "outputs": [
    {
     "data": {
      "text/plain": [
       "['hello', 'world']"
      ]
     },
     "execution_count": 2,
     "metadata": {},
     "output_type": "execute_result"
    }
   ],
   "source": [
    "ds = (\n",
    "    dfn.load([\"he\", \"wo\"])\n",
    "    .zip(dfn.load([\"llo\", \"rld\"]))\n",
    "    .map(lambda x: x[0]+x[1])\n",
    ")\n",
    "# ds.root().iterables\n",
    "ds.take(2)"
   ]
  },
  {
   "cell_type": "code",
   "execution_count": 9,
   "metadata": {},
   "outputs": [
    {
     "data": {
      "text/plain": [
       "['helloworld']"
      ]
     },
     "execution_count": 9,
     "metadata": {},
     "output_type": "execute_result"
    }
   ],
   "source": [
    "ds = (\n",
    "    dfn.load([\"he\", \"wo\"])\n",
    "    .zip(dfn.load([\"llo\", \"rld\"]))\n",
    "    .aggregate(\n",
    "        init=lambda: \"\",\n",
    "        agg=lambda x, agg: agg+x[0]+x[1]\n",
    "    )\n",
    ")\n",
    "# ds.root().iterables\n",
    "ds.take(1)"
   ]
  },
  {
   "cell_type": "markdown",
   "metadata": {},
   "source": [
    "# join"
   ]
  },
  {
   "cell_type": "code",
   "execution_count": 1,
   "metadata": {},
   "outputs": [
    {
     "data": {
      "text/plain": [
       "[{'0': [{'id': '0', 'name': 'foo'}],\n",
       "  '1': [{'id': '1', 'name': 'bar'}, {'id': '1', 'name': 'bar_dup'}],\n",
       "  '2': [{'id': '2', 'name': 'zoo'}, {'id': '2', 'name': 'second_zoo'}],\n",
       "  '10': [{'id': '10', 'name': 'ten'}]}]"
      ]
     },
     "execution_count": 1,
     "metadata": {},
     "output_type": "execute_result"
    }
   ],
   "source": [
    "# Join two datasets by key (full outer, the default)\n",
    "import datafun as dfn\n",
    "ds1 = dfn.load([\n",
    "    {\"id\": \"0\", \"name\": \"foo\"},\n",
    "    {\"id\": \"1\", \"name\": \"bar\"},\n",
    "    {\"id\": \"2\", \"name\": \"zoo\"},\n",
    "    {\"id\": \"1\", \"name\": \"bar_dup\"}\n",
    "])\n",
    "ds2 = dfn.load([\n",
    "    {\"id\": \"2\", \"name\": \"second_zoo\"},\n",
    "    {\"id\": \"10\", \"name\": \"ten\"}\n",
    "])\n",
    "ds1.join(other=ds2, key=lambda x: x['id'], type=\"full\").take(10)"
   ]
  },
  {
   "cell_type": "code",
   "execution_count": 2,
   "metadata": {},
   "outputs": [
    {
     "data": {
      "text/plain": [
       "[{'0': [{'id': '0', 'name': 'foo'}],\n",
       "  '1': [{'id': '1', 'name': 'bar'}, {'id': '1', 'name': 'bar_dup'}],\n",
       "  '2': [{'id': '2', 'name': 'zoo'}, {'id': '2', 'name': 'second_zoo'}]}]"
      ]
     },
     "execution_count": 2,
     "metadata": {},
     "output_type": "execute_result"
    }
   ],
   "source": [
    "ds1.join(other=ds2, key=lambda x: x['id'], type='left').take(10)"
   ]
  },
  {
   "cell_type": "code",
   "execution_count": 3,
   "metadata": {},
   "outputs": [
    {
     "data": {
      "text/plain": [
       "[{'2': [{'id': '2', 'name': 'second_zoo'}, {'id': '2', 'name': 'zoo'}],\n",
       "  '10': [{'id': '10', 'name': 'ten'}]}]"
      ]
     },
     "execution_count": 3,
     "metadata": {},
     "output_type": "execute_result"
    }
   ],
   "source": [
    "ds1.join(other=ds2, key=lambda x: x['id'], type='right').take(10)"
   ]
  },
  {
   "cell_type": "code",
   "execution_count": 4,
   "metadata": {},
   "outputs": [
    {
     "data": {
      "text/plain": [
       "[{'2': [{'id': '2', 'name': 'zoo'}, {'id': '2', 'name': 'second_zoo'}]}]"
      ]
     },
     "execution_count": 4,
     "metadata": {},
     "output_type": "execute_result"
    }
   ],
   "source": [
    "ds1.join(other=ds2, key=lambda x: x['id'], type='inner').take(10)"
   ]
  },
  {
   "cell_type": "code",
   "execution_count": 5,
   "metadata": {},
   "outputs": [
    {
     "data": {
      "text/plain": [
       "[{'0': [{'root': {'chatId': '0', 'name': 'foo'}}],\n",
       "  '1': [{'root': {'chatId': '1', 'name': 'bar'}}],\n",
       "  0: [{'sessionId': 0, 'name': 'alice'}],\n",
       "  13: [{'sessionId': 13, 'name': 'bob'}]}]"
      ]
     },
     "execution_count": 5,
     "metadata": {},
     "output_type": "execute_result"
    }
   ],
   "source": [
    "# Datasets have keys in different (possibly nested) paths\n",
    "# warning! You can mix keys of different type\n",
    "ds1 = dfn.load([\n",
    "    {\"root\": {\"chatId\": \"0\", \"name\": \"foo\"}},\n",
    "    {\"root\": {\"chatId\": \"1\", \"name\": \"bar\"}},\n",
    "])\n",
    "ds2 = dfn.load([\n",
    "    {\"sessionId\": 0, \"name\": \"alice\"},\n",
    "    {\"sessionId\": 13, \"name\": \"bob\"}\n",
    "])\n",
    "ds1.join(other=ds2, key_left=lambda x: x['root']['chatId'], key_right=lambda x: x['sessionId']).take(10)"
   ]
  },
  {
   "cell_type": "markdown",
   "metadata": {},
   "source": [
    "# cache\n",
    "You can cache transformed data in memory"
   ]
  },
  {
   "cell_type": "code",
   "execution_count": 2,
   "metadata": {},
   "outputs": [
    {
     "name": "stdout",
     "output_type": "stream",
     "text": [
      "2\n",
      "4\n",
      "--\n",
      "2\n",
      "4\n"
     ]
    }
   ],
   "source": [
    "ds = dfn.load([1,2,3,4,5]).filter(lambda x: x%2==0).cache()\n",
    "for x in ds:\n",
    "    print(x)\n",
    "print('--')\n",
    "for x in ds:\n",
    "    print(x)"
   ]
  },
  {
   "cell_type": "code",
   "execution_count": 24,
   "metadata": {},
   "outputs": [],
   "source": [
    "import time\n",
    "import datafun as dfn\n",
    "\n",
    "def long_function(x):\n",
    "    time.sleep(0.5)\n",
    "    return x\n",
    "\n",
    "ds = dfn.load([1,2,3,4,5,6,7,8])\n",
    "ds = ds.map(lambda x: x*10)\n",
    "ds = ds.map(lambda x: long_function(x))\n",
    "ds = ds.cache()\n",
    "ds = ds.filter(lambda x: x%20==0)"
   ]
  },
  {
   "cell_type": "code",
   "execution_count": 26,
   "metadata": {},
   "outputs": [
    {
     "name": "stdout",
     "output_type": "stream",
     "text": [
      "20\n",
      "40\n",
      "60\n",
      "80\n"
     ]
    }
   ],
   "source": [
    "# First time you run it will execute long_function 5 times\n",
    "for x in ds:\n",
    "    print(x)"
   ]
  },
  {
   "cell_type": "code",
   "execution_count": 27,
   "metadata": {},
   "outputs": [
    {
     "name": "stdout",
     "output_type": "stream",
     "text": [
      "20\n",
      "40\n",
      "60\n",
      "80\n"
     ]
    }
   ],
   "source": [
    "# Second time you run it will take the result from memory\n",
    "for x in ds:\n",
    "    print(x)"
   ]
  },
  {
   "cell_type": "markdown",
   "metadata": {},
   "source": [
    "# repeat"
   ]
  },
  {
   "cell_type": "code",
   "execution_count": 5,
   "metadata": {},
   "outputs": [
    {
     "data": {
      "text/plain": [
       "[1, 2, 3, 1, 2, 3, 1, 2, 3, 1]"
      ]
     },
     "execution_count": 5,
     "metadata": {},
     "output_type": "execute_result"
    }
   ],
   "source": [
    "ds = dfn.load([1,2,3]).repeat()\n",
    "\n",
    "ds.take(10)"
   ]
  }
 ],
 "metadata": {
  "kernelspec": {
   "display_name": "Python 3.9.9 64-bit ('datafun')",
   "language": "python",
   "name": "python3"
  },
  "language_info": {
   "codemirror_mode": {
    "name": "ipython",
    "version": 3
   },
   "file_extension": ".py",
   "mimetype": "text/x-python",
   "name": "python",
   "nbconvert_exporter": "python",
   "pygments_lexer": "ipython3",
   "version": "3.9.9"
  },
  "orig_nbformat": 4,
  "vscode": {
   "interpreter": {
    "hash": "1feeeb35e04c31a2e10709c12a2edee44e932fb58f3cd29b93e401eef25ef5a1"
   }
  }
 },
 "nbformat": 4,
 "nbformat_minor": 2
}

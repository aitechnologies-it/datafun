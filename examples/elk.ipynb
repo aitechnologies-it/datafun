{
 "cells": [
  {
   "cell_type": "code",
   "execution_count": 2,
   "metadata": {},
   "outputs": [],
   "source": [
    "import datafun as dfn"
   ]
  },
  {
   "cell_type": "code",
   "execution_count": 2,
   "metadata": {},
   "outputs": [],
   "source": [
    "elk = dfn.load(\"elk\",\n",
    "    path=\"./data/elk_query_example.json\",\n",
    "    host=\"XXX\",\n",
    "    port=9243,\n",
    "    username=\"XXX\",\n",
    "    password=\"XXX\",\n",
    "    index=\"my_index_name_*\",\n",
    "    start_isodate=\"2022-06-01T00:00:00.000Z\",\n",
    "    end_isodate=\"2022-06-30T00:00:00.000Z\",\n",
    "    date_field=\"messages.date\" # OPTIONAL: eg. 'messages.date'\n",
    ")"
   ]
  },
  {
   "cell_type": "code",
   "execution_count": null,
   "metadata": {},
   "outputs": [],
   "source": [
    "elk.collect()"
   ]
  },
  {
   "cell_type": "code",
   "execution_count": null,
   "metadata": {},
   "outputs": [],
   "source": []
  }
 ],
 "metadata": {
  "kernelspec": {
   "display_name": "Python 3.9.9 64-bit ('datafun')",
   "language": "python",
   "name": "python3"
  },
  "language_info": {
   "codemirror_mode": {
    "name": "ipython",
    "version": 3
   },
   "file_extension": ".py",
   "mimetype": "text/x-python",
   "name": "python",
   "nbconvert_exporter": "python",
   "pygments_lexer": "ipython3",
   "version": "3.9.9"
  },
  "orig_nbformat": 4,
  "vscode": {
   "interpreter": {
    "hash": "1feeeb35e04c31a2e10709c12a2edee44e932fb58f3cd29b93e401eef25ef5a1"
   }
  }
 },
 "nbformat": 4,
 "nbformat_minor": 2
}

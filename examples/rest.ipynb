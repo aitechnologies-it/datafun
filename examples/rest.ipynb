{
 "cells": [
  {
   "cell_type": "code",
   "execution_count": 1,
   "metadata": {},
   "outputs": [],
   "source": [
    "import datafun as dfn"
   ]
  },
  {
   "cell_type": "code",
   "execution_count": 6,
   "metadata": {},
   "outputs": [
    {
     "name": "stdout",
     "output_type": "stream",
     "text": [
      "{'fact': 'Some Siamese cats appear cross-eyed because the nerves from the left side of the brain go to mostly the right eye and the nerves from the right side of the brain go mostly to the left eye. This causes some double vision, which the cat tries to correct by “crossing” its eyes.', 'length': 275}\n"
     ]
    }
   ],
   "source": [
    "ds = dfn.load(\"rest\",\n",
    "    path=\"https://catfact.ninja/fact\",\n",
    "    # service_account=\"/path/to/sa.json\",\n",
    "    # download_path: str = \".\"\n",
    "    # headers: dict\n",
    "    # auth_headers: dict\n",
    "    # params: Optional[dict]\n",
    "    # method: str = 'GET'\n",
    "    # next_url_f: Callable[[dict], Optional[str]]\n",
    ")\n",
    "\n",
    "for json_response in ds:\n",
    "    print(json_response)"
   ]
  },
  {
   "cell_type": "markdown",
   "metadata": {},
   "source": [
    "*TODO: make example for next_url_f*"
   ]
  },
  {
   "cell_type": "code",
   "execution_count": null,
   "metadata": {},
   "outputs": [],
   "source": []
  }
 ],
 "metadata": {
  "kernelspec": {
   "display_name": "Python 3.9.9 64-bit ('datafun')",
   "language": "python",
   "name": "python3"
  },
  "language_info": {
   "codemirror_mode": {
    "name": "ipython",
    "version": 3
   },
   "file_extension": ".py",
   "mimetype": "text/x-python",
   "name": "python",
   "nbconvert_exporter": "python",
   "pygments_lexer": "ipython3",
   "version": "3.9.9"
  },
  "orig_nbformat": 4,
  "vscode": {
   "interpreter": {
    "hash": "1feeeb35e04c31a2e10709c12a2edee44e932fb58f3cd29b93e401eef25ef5a1"
   }
  }
 },
 "nbformat": 4,
 "nbformat_minor": 2
}

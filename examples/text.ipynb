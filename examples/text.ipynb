{
 "cells": [
  {
   "cell_type": "code",
   "execution_count": 1,
   "metadata": {},
   "outputs": [],
   "source": [
    "import datafun as dfn"
   ]
  },
  {
   "cell_type": "code",
   "execution_count": 2,
   "metadata": {},
   "outputs": [
    {
     "data": {
      "text/plain": [
       "['csv',\n",
       " 'elk',\n",
       " 'gcs',\n",
       " 'gcs-csv',\n",
       " 'gcs-json',\n",
       " 'gcs-jsonl',\n",
       " 'gcs-text',\n",
       " 'json',\n",
       " 'jsonl',\n",
       " 'rest',\n",
       " 'text']"
      ]
     },
     "execution_count": 2,
     "metadata": {},
     "output_type": "execute_result"
    }
   ],
   "source": [
    "dfn.list_datasets()"
   ]
  },
  {
   "cell_type": "code",
   "execution_count": 3,
   "metadata": {},
   "outputs": [
    {
     "name": "stdout",
     "output_type": "stream",
     "text": [
      "INFO {'author': 'foo@example.com', 'description': 'to read raw text files'}\n",
      "SCHEMA {}\n"
     ]
    }
   ],
   "source": [
    "ds = dfn.load(\"text\", path=\"./data/poem.txt\")\n",
    "print(\"INFO\", ds.info())\n",
    "print(\"SCHEMA\", ds.schema())"
   ]
  },
  {
   "cell_type": "code",
   "execution_count": 4,
   "metadata": {},
   "outputs": [
    {
     "data": {
      "text/plain": [
       "[('text', 'TextDataset'),\n",
       " ('filter_word_sagittis', 'Filter'),\n",
       " ('to_uppercase', 'Map')]"
      ]
     },
     "execution_count": 4,
     "metadata": {},
     "output_type": "execute_result"
    }
   ],
   "source": [
    "ds2 = ds.filter(lambda x: 'sagittis' in x, name=\"filter_word_sagittis\")\n",
    "ds2 = ds2.map(lambda x: x.upper(), name=\"to_uppercase\")\n",
    "\n",
    "ds2.summary()"
   ]
  },
  {
   "cell_type": "code",
   "execution_count": 5,
   "metadata": {},
   "outputs": [
    {
     "data": {
      "text/plain": [
       "['SAGITTIS EST SED, CONSEQUAT AUGUE']"
      ]
     },
     "execution_count": 5,
     "metadata": {},
     "output_type": "execute_result"
    }
   ],
   "source": [
    "ds2.take(5)"
   ]
  }
 ],
 "metadata": {
  "kernelspec": {
   "display_name": "Python 3.9.9 64-bit ('datafun')",
   "language": "python",
   "name": "python3"
  },
  "language_info": {
   "codemirror_mode": {
    "name": "ipython",
    "version": 3
   },
   "file_extension": ".py",
   "mimetype": "text/x-python",
   "name": "python",
   "nbconvert_exporter": "python",
   "pygments_lexer": "ipython3",
   "version": "3.9.9"
  },
  "orig_nbformat": 4,
  "vscode": {
   "interpreter": {
    "hash": "1feeeb35e04c31a2e10709c12a2edee44e932fb58f3cd29b93e401eef25ef5a1"
   }
  }
 },
 "nbformat": 4,
 "nbformat_minor": 2
}

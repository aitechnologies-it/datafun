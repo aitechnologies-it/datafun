{
 "cells": [
  {
   "cell_type": "code",
   "execution_count": 1,
   "metadata": {},
   "outputs": [],
   "source": [
    "import datafun as dfn"
   ]
  },
  {
   "cell_type": "code",
   "execution_count": 2,
   "metadata": {},
   "outputs": [
    {
     "data": {
      "text/plain": [
       "'THE QUICK BROWN FOX JUMPS OVER THE LAZY DOG'"
      ]
     },
     "execution_count": 2,
     "metadata": {},
     "output_type": "execute_result"
    }
   ],
   "source": [
    "text = [\n",
    "    \"The quick brown fox jumps over the lazy dog\",\n",
    "    \"Lorem ipsum\",\n",
    "    \"Random medium cover images\",\n",
    "    \"Now a list of generated sentences from GitHub Copilot:\",\n",
    "    \"Walk around the park\",\n",
    "    \"A sentence with a lot of words\",\n",
    "    \"Boring text\",\n",
    "    \"Cats are cute\",\n",
    "    \"Dogs are awesome\",\n",
    "    \"Eagles are cool\",\n",
    "    \"Frogs are fun\",\n",
    "    \"Giraffes are great\",\n",
    "]\n",
    "\n",
    "ds = dfn.load(text)\n",
    "ds = ds.map(lambda x: x.upper())\n",
    "ds.show(1)"
   ]
  },
  {
   "cell_type": "code",
   "execution_count": null,
   "metadata": {},
   "outputs": [],
   "source": []
  }
 ],
 "metadata": {
  "kernelspec": {
   "display_name": "Python 3.9.9 64-bit ('datafun')",
   "language": "python",
   "name": "python3"
  },
  "language_info": {
   "codemirror_mode": {
    "name": "ipython",
    "version": 3
   },
   "file_extension": ".py",
   "mimetype": "text/x-python",
   "name": "python",
   "nbconvert_exporter": "python",
   "pygments_lexer": "ipython3",
   "version": "3.9.9"
  },
  "orig_nbformat": 4,
  "vscode": {
   "interpreter": {
    "hash": "1feeeb35e04c31a2e10709c12a2edee44e932fb58f3cd29b93e401eef25ef5a1"
   }
  }
 },
 "nbformat": 4,
 "nbformat_minor": 2
}
